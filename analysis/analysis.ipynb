{
 "cells": [
  {
   "cell_type": "code",
   "execution_count": 1,
   "metadata": {},
   "outputs": [],
   "source": [
    "from datetime import timedelta\n",
    "import math\n",
    "import os\n",
    "import sys\n",
    "sys.path.insert(0,'../src/')\n",
    "import matplotlib.pyplot as plt\n",
    "import matplotlib.dates as mdates\n",
    "import pandas as pd\n",
    "import seaborn as sns\n",
    "from preprocess import get_settings, get_combined_data\n",
    "from citylearn.cost_function import CostFunction"
   ]
  },
  {
   "cell_type": "code",
   "execution_count": 2,
   "metadata": {},
   "outputs": [],
   "source": [
    "SETTINGS = get_settings()\n",
    "NEIGHBORHOOD_DIRECTORIES = [os.path.join(SETTINGS['neighborhood_directory'], d) for d in os.listdir(SETTINGS['neighborhood_directory']) if d.endswith('hood')]\n",
    "NEIGHBORHOOD_NAMES = [d.split('_')[0:2] for d in os.listdir(SETTINGS['neighborhood_directory']) if d.endswith('hood')]\n",
    "NEIGHBORHOOD_NAMES = [n[0].upper() + ', ' + n[1].capitalize() + ' County' for n in NEIGHBORHOOD_NAMES]\n",
    "SIMULATION_IDS = [n.split(' ')[1].lower() for n in NEIGHBORHOOD_NAMES]\n",
    "SIMULATION_OUTPUT_DIRECTORIES = [os.path.join(SETTINGS['simulation_output_directory'], i) for i in SIMULATION_IDS]\n",
    "plt.rcParams['axes.xmargin'] = 0\n",
    "plt.rcParams['axes.ymargin'] = 0\n",
    "COST_FUNCTION_LABELS = {\n",
    "    'electricity_consumption': 'Electricity consumption', \n",
    "    'price': r'$C$', \n",
    "    'carbon_emission': r'$G$',\n",
    "    'zero_net_energy': r'$Z$',\n",
    "    'average_daily_peak': 'Average daily peak',\n",
    "    'peak_demand': 'Peak demand',\n",
    "    'ramping': 'Ramping',\n",
    "    '1 - load_factor': '1 - load factor',\n",
    "}\n",
    "NEIGHBORHOOD_NAMES = {\n",
    "    'travis': 'Travis Co., TX',\n",
    "    'alameda': 'Alameda Co., CA',\n",
    "    'chittenden': 'Chittenden Co., VT'\n",
    "}\n",
    "ENVIRONMENT_DATA = get_combined_data('environment')\n",
    "KPI_DATA = get_combined_data('kpi')\n",
    "REWARD_DATA = get_combined_data('reward')"
   ]
  },
  {
   "attachments": {},
   "cell_type": "markdown",
   "metadata": {},
   "source": [
    "# Sanity Checks\n",
    "***"
   ]
  },
  {
   "attachments": {},
   "cell_type": "markdown",
   "metadata": {},
   "source": [
    "### Building KPIS"
   ]
  },
  {
   "cell_type": "code",
   "execution_count": 3,
   "metadata": {},
   "outputs": [],
   "source": [
    "for n, n_data in KPI_DATA.groupby('neighborhood'):\n",
    "    n_data = n_data[(n_data['level']=='district')].dropna()\n",
    "    kpis = n_data['cost_function'].dropna().unique()\n",
    "    buildings = n_data['resstock_bldg_id'].unique()\n",
    "    row_count, column_count = len(buildings), len(kpis)\n",
    "    fig, _ = plt.subplots(row_count, column_count, figsize=(column_count*3, 2*row_count))\n",
    "\n",
    "    for ax, ((b, k), k_data) in zip(fig.axes, n_data.groupby(['resstock_bldg_id', 'cost_function'])):\n",
    "        x, y = k_data['episode'], k_data['value']\n",
    "        ax.plot(x, y)\n",
    "        ax.axhline(1.0, color='black', linestyle='--')\n",
    "        ax.set_title(f'{b}-{k}')\n",
    "\n",
    "    plt.tight_layout()\n",
    "    filename = f'{n}_building_training_kpis.pdf'\n",
    "    plt.savefig(os.path.join(SETTINGS['figures_directory'], filename), bbox_inches='tight', transparent=True)\n",
    "    plt.close()"
   ]
  },
  {
   "attachments": {},
   "cell_type": "markdown",
   "metadata": {},
   "source": [
    "- Travis is suspiciously too good to be true with electricity consumption reducing by 50% compared to without storage. Load factor on the other hand gets worse when the switch from RBC to RL is made but is on downward trajectory so it's improving. Other KPIs improve immediately the switch is made. Generally, 5 training episodes is sufficient.\n",
    "\n",
    "- Chittenden seems to be unstable in its learning as load factor improves for the first 6 episodes even better than baseline but then starts worsening and is headed to the a similar performance as the baseline. Electricity consumption is the opposite as it gets worse then begins to improve. Seems like there is an indirect relationship between the two. Why? Zero-net energy looks like electricity consumption while other KPIs are stable. 10 training episodes is not sufficient for this location to make any conclusions.\n",
    "\n",
    "- Alameda has stable learning and all KPIs except ZNE are improved by RL. Peak demand is sort of worsening though beyond the 6th episode. Do not think 10 episodes is sufficient for training."
   ]
  },
  {
   "attachments": {},
   "cell_type": "markdown",
   "metadata": {},
   "source": [
    "### Building rewards"
   ]
  },
  {
   "cell_type": "code",
   "execution_count": 4,
   "metadata": {},
   "outputs": [],
   "source": [
    "column_count_limit = 8\n",
    "\n",
    "for n, r_data in REWARD_DATA.groupby('neighborhood'):\n",
    "    r_data = r_data[r_data['mode']=='train'].copy()\n",
    "    r_data = r_data.groupby(['resstock_bldg_id', 'episode'])[['reward']].sum().reset_index()\n",
    "    buildings = r_data['resstock_bldg_id'].unique()\n",
    "    row_count = math.ceil(len(buildings)/column_count_limit)\n",
    "    column_count = min(column_count_limit, len(buildings))\n",
    "    fig, _ = plt.subplots(row_count, column_count, figsize=(5*column_count, 2*row_count))\n",
    "\n",
    "    for ax, (b, b_data) in zip(fig.axes, r_data.groupby('resstock_bldg_id')):\n",
    "        x, y = b_data['episode'], b_data['reward']\n",
    "        ax.plot(x, y)\n",
    "        ax.set_title(b)\n",
    "\n",
    "    plt.tight_layout()\n",
    "    filename = f'{n}_reward_profiles.pdf'\n",
    "    plt.savefig(os.path.join(SETTINGS['figures_directory'], filename), bbox_inches='tight', transparent=True)\n",
    "    plt.close()"
   ]
  },
  {
   "attachments": {},
   "cell_type": "markdown",
   "metadata": {},
   "source": [
    "- The reward trajectory for Travis buildings is stable and as observed, 5 training episodes is sufficient.\n",
    "- The reward trajectory for Chittenden is terribly unstable; it improves and worsens for some buildings. Will probably just leave this location out of the analysis.\n",
    "- Alameda reward trajectory is also stable but might need more than 10 episodes for all buildings agents to converge. I think 15 episodes will be sufficient."
   ]
  },
  {
   "attachments": {},
   "cell_type": "markdown",
   "metadata": {},
   "source": [
    "### Last 2-week in test period electricity consumption profile"
   ]
  },
  {
   "cell_type": "code",
   "execution_count": 5,
   "metadata": {},
   "outputs": [],
   "source": [
    "column_count_limit = 6\n",
    "\n",
    "for n, e_data in ENVIRONMENT_DATA.groupby('neighborhood'):\n",
    "    ref_timestamp = e_data['timestamp'].max() - timedelta(days=14)\n",
    "    e_data = e_data[\n",
    "        (e_data['episode']==e_data['episode'].max())\n",
    "        &(e_data['timestamp'] >= ref_timestamp)\n",
    "    ].dropna().copy()\n",
    "    buildings = sorted(e_data['resstock_bldg_id'].dropna().unique())\n",
    "    row_count = math.ceil(len(buildings)/column_count_limit)\n",
    "    column_count = min(column_count_limit, len(buildings))\n",
    "    fig, _ = plt.subplots(row_count, column_count, figsize=(5*column_count, 2*row_count))\n",
    "\n",
    "    for ax, (b, b_data) in zip(fig.axes, e_data.groupby('resstock_bldg_id')):\n",
    "        b_data = b_data.reset_index()\n",
    "        x = b_data['timestamp']\n",
    "        \n",
    "        y1 = b_data['net_electricity_consumption_without_storage_and_pv']\n",
    "        y2 = b_data['net_electricity_consumption_without_storage'] \n",
    "        y3 = b_data['net_electricity_consumption']\n",
    "        # ax.plot(x, y1, color='tab:red')\n",
    "        ax.plot(x, y2, color='tab:blue')\n",
    "        ax.plot(x, y3, color='tab:green')\n",
    "        ax.xaxis.set_major_locator(mdates.HourLocator(0))\n",
    "        ax.xaxis.set_major_formatter(mdates.DateFormatter('%d'))\n",
    "        ax.set_title(b)\n",
    "\n",
    "    plt.tight_layout()\n",
    "    filename = f'{n}_2week_electricity_consumption_profiles.pdf'\n",
    "    plt.savefig(os.path.join(SETTINGS['figures_directory'], filename), bbox_inches='tight', transparent=True)\n",
    "    plt.close()"
   ]
  },
  {
   "attachments": {},
   "cell_type": "markdown",
   "metadata": {},
   "source": [
    "### Last 2-week in test period SoC"
   ]
  },
  {
   "cell_type": "code",
   "execution_count": 6,
   "metadata": {},
   "outputs": [],
   "source": [
    "column_count_limit = 6\n",
    "\n",
    "for n, e_data in ENVIRONMENT_DATA.groupby('neighborhood'):\n",
    "    ref_timestamp = e_data['timestamp'].max() - timedelta(days=14)\n",
    "    e_data = e_data[\n",
    "        (e_data['episode']==e_data['episode'].max())\n",
    "        &(e_data['timestamp'] >= ref_timestamp)\n",
    "    ].dropna().copy()\n",
    "    buildings = sorted(e_data['resstock_bldg_id'].dropna().unique())\n",
    "    row_count = math.ceil(len(buildings)/column_count_limit)\n",
    "    column_count = min(column_count_limit, len(buildings))\n",
    "    fig, _ = plt.subplots(row_count, column_count, figsize=(5*column_count, 2*row_count))\n",
    "\n",
    "    for ax, (b, b_data) in zip(fig.axes, e_data.groupby('resstock_bldg_id')):\n",
    "        b_data = b_data.reset_index()\n",
    "        x = b_data['timestamp']\n",
    "        \n",
    "        y1 = b_data['electrical_storage_soc']\n",
    "        y2 = b_data['dhw_storage_soc']\n",
    "        ax.plot(x, y1, color='tab:green')\n",
    "        ax.plot(x, y2, color='tab:red')\n",
    "        ax.xaxis.set_major_locator(mdates.HourLocator(0))\n",
    "        ax.xaxis.set_major_formatter(mdates.DateFormatter('%d'))\n",
    "        ax.set_title(b)\n",
    "\n",
    "    plt.tight_layout()\n",
    "    filename = f'{n}_2week_soc_profiles.pdf'\n",
    "    plt.savefig(os.path.join(SETTINGS['figures_directory'], filename), bbox_inches='tight', transparent=True)\n",
    "    plt.close()"
   ]
  },
  {
   "attachments": {},
   "cell_type": "markdown",
   "metadata": {},
   "source": [
    "### Average electricity consumption profile"
   ]
  },
  {
   "cell_type": "code",
   "execution_count": 7,
   "metadata": {},
   "outputs": [],
   "source": [
    "column_count_limit = 6\n",
    "\n",
    "for n, e_data in ENVIRONMENT_DATA.groupby('neighborhood'):\n",
    "    ref_timestamp = e_data['timestamp'].max() - timedelta(days=14)\n",
    "    e_data = e_data[\n",
    "        (e_data['episode']==e_data['episode'].max())\n",
    "        &(e_data['timestamp'] >= ref_timestamp)\n",
    "    ].dropna().copy()\n",
    "    e_data = e_data.groupby(['resstock_bldg_id', 'episode', 'day_of_week', 'hour'])[[\n",
    "        'net_electricity_consumption', \n",
    "        'net_electricity_consumption_without_storage',\n",
    "        'net_electricity_consumption_without_storage_and_pv'\n",
    "    ]].mean().reset_index()\n",
    "    buildings = sorted(e_data['resstock_bldg_id'].dropna().unique())\n",
    "    row_count = math.ceil(len(buildings)/column_count_limit)\n",
    "    column_count = min(column_count_limit, len(buildings))\n",
    "    fig, _ = plt.subplots(row_count, column_count, figsize=(5*column_count, 2*row_count))\n",
    "\n",
    "    for ax, (b, b_data) in zip(fig.axes, e_data.groupby('resstock_bldg_id')):\n",
    "        b_data = b_data.reset_index()\n",
    "        x = b_data.index\n",
    "        y1 = b_data['net_electricity_consumption_without_storage_and_pv']\n",
    "        y2 = b_data['net_electricity_consumption_without_storage'] \n",
    "        y3 = b_data['net_electricity_consumption']\n",
    "        # ax.plot(x, y1, color='tab:red')\n",
    "        ax.plot(x, y2, color='tab:blue')\n",
    "        ax.plot(x, y3, color='tab:green')\n",
    "        ax.set_title(b)\n",
    "\n",
    "    plt.tight_layout()\n",
    "    filename = f'{n}_average_electricity_consumption_profiles.pdf'\n",
    "    plt.savefig(os.path.join(SETTINGS['figures_directory'], filename), bbox_inches='tight', transparent=True)\n",
    "    plt.close()"
   ]
  },
  {
   "attachments": {},
   "cell_type": "markdown",
   "metadata": {},
   "source": [
    "- The PV is oversized-ish for Travis simulation because it is the summer and there is just plenty of sunlight to drastically reduce electricity consumption. The solar generation during the summer is much larger than the actual load! Which is why for the other locations that are simulated during the winter, the reduction in electricity consumption is not as much.\n",
    "- The profiles don't have an issue in any of the locations just the PV is doing a lot of heavy lifting in the winter to assist by it overgenerating in the summer.\n",
    "- A way to balance the result is to either simulate the entire year or simulate winter and summer separately for each location."
   ]
  },
  {
   "attachments": {},
   "cell_type": "markdown",
   "metadata": {},
   "source": [
    "### Daily load area profile"
   ]
  },
  {
   "cell_type": "code",
   "execution_count": 8,
   "metadata": {},
   "outputs": [],
   "source": [
    "column_count_limit = 8\n",
    "loads = {\n",
    "    'energy_from_electrical_storage': 'tab:brown',\n",
    "    'energy_from_dhw_storage': 'grey',\n",
    "    'energy_from_dhw_device': 'tab:orange',\n",
    "    'energy_from_heating_device': 'tab:red',\n",
    "    'energy_from_cooling_device': 'tab:blue',\n",
    "    'energy_to_electrical_storage': 'purple',\n",
    "    'energy_from_dhw_device_to_dhw_storage': 'aqua',\n",
    "}\n",
    "\n",
    "\n",
    "for n, e_data in ENVIRONMENT_DATA.groupby('neighborhood'):\n",
    "    ref_timestamp = e_data['timestamp'].max() - timedelta(days=14)\n",
    "    e_data = e_data[\n",
    "        (e_data['episode']==e_data['episode'].max())\n",
    "        &(e_data['timestamp'] >= ref_timestamp)\n",
    "    ].dropna().copy()\n",
    "    buildings = sorted(e_data['resstock_bldg_id'].dropna().unique())\n",
    "    row_count = math.ceil(len(buildings)/column_count_limit)\n",
    "    column_count = min(column_count_limit, len(buildings))\n",
    "    fig, _ = plt.subplots(row_count, column_count, figsize=(5*column_count, 2*row_count))\n",
    "\n",
    "    for ax, (b, b_data) in zip(fig.axes, e_data.groupby('resstock_bldg_id')):\n",
    "        b_data = b_data.reset_index()\n",
    "        x = b_data['timestamp']\n",
    "        y = tuple([b_data[l].tolist() for l in loads])\n",
    "        ax.stackplot(x,y,baseline='zero',labels=loads, colors=list(loads.values()))\n",
    "        ax.xaxis.set_major_locator(mdates.HourLocator(0))\n",
    "        ax.xaxis.set_major_formatter(mdates.DateFormatter('%d'))\n",
    "        ax.set_title(b)\n",
    "\n",
    "    plt.tight_layout()\n",
    "    filename = f'{n}_load_area_profiles.pdf'\n",
    "    plt.savefig(os.path.join(SETTINGS['figures_directory'], filename), bbox_inches='tight', transparent=True)\n",
    "    plt.close()"
   ]
  },
  {
   "attachments": {},
   "cell_type": "markdown",
   "metadata": {},
   "source": [
    "# Paper Figures\n",
    "***"
   ]
  },
  {
   "attachments": {},
   "cell_type": "markdown",
   "metadata": {},
   "source": [
    "### Building electricity consumption distribution"
   ]
  },
  {
   "cell_type": "code",
   "execution_count": 9,
   "metadata": {},
   "outputs": [
    {
     "data": {
      "image/png": "[encoded data removed]",
      "text/plain": [
       "<Figure size 400x140 with 1 Axes>"
      ]
     },
     "metadata": {},
     "output_type": "display_data"
    }
   ],
   "source": [
    "plot_data = KPI_DATA[\n",
    "    (KPI_DATA['level']=='building')\n",
    "    & (KPI_DATA['mode']=='test')\n",
    "    & (KPI_DATA['cost_function']=='electricity_consumption')\n",
    "].copy()\n",
    "plot_data['neighborhood'] = plot_data['neighborhood'].map(lambda x: NEIGHBORHOOD_NAMES[x])\n",
    "row_count, column_count = 1, 1\n",
    "fig, ax = plt.subplots(row_count, column_count, figsize=(4*column_count, 1.4*row_count))\n",
    "hue_order = sorted(plot_data['neighborhood'].unique().tolist())\n",
    "sns.stripplot(y='neighborhood', x='value', data=plot_data, ax=ax, size=8, order=hue_order, color='grey', edgecolor='black', jitter=True, linewidth=1, clip_on=False)\n",
    "ax.axvline(1.0, color='black', linestyle='--', label='Without storage (baseline)')\n",
    "ax.set_xlabel(COST_FUNCTION_LABELS['electricity_consumption'])\n",
    "ax.set_ylabel(None)\n",
    "\n",
    "for s in ['top', 'right']:\n",
    "    ax.spines[s].set_visible(False)\n",
    "\n",
    "ax.legend()\n",
    "\n",
    "filename = f'neighborhood_electricity_consumption_kpi_distribution.pdf'\n",
    "plt.savefig(os.path.join(SETTINGS['figures_directory'], filename), bbox_inches='tight', transparent=True)\n",
    "plt.show()"
   ]
  },
  {
   "attachments": {},
   "cell_type": "markdown",
   "metadata": {},
   "source": [
    "### District Level KPIs"
   ]
  },
  {
   "cell_type": "code",
   "execution_count": 10,
   "metadata": {},
   "outputs": [
    {
     "data": {
      "text/plain": [
       "neighborhood\n",
       "Alameda Co., CA    0.052958\n",
       "Name: value, dtype: float64"
      ]
     },
     "metadata": {},
     "output_type": "display_data"
    },
    {
     "data": {
      "image/png": "[encoded data removed]",
      "text/plain": [
       "<Figure size 250x350 with 1 Axes>"
      ]
     },
     "metadata": {},
     "output_type": "display_data"
    }
   ],
   "source": [
    "plot_data = ENVIRONMENT_DATA[ENVIRONMENT_DATA['mode']=='test'].copy()\n",
    "plot_data = plot_data.groupby(['neighborhood', 'timestamp'])[['net_electricity_consumption', 'net_electricity_consumption_without_storage']].sum().reset_index()\n",
    "kpi_data_list = []\n",
    "\n",
    "for n, n_data in plot_data.groupby('neighborhood'):\n",
    "    net_electricity_consumption = n_data['net_electricity_consumption']\n",
    "    net_electricity_consumption_without_storage = n_data['net_electricity_consumption_without_storage']\n",
    "    electricity_consumption_kpi = KPI_DATA[\n",
    "        (KPI_DATA['neighborhood']==n) \n",
    "        & (KPI_DATA['level']=='building')\n",
    "        & (KPI_DATA['mode']=='test')\n",
    "        & (KPI_DATA['cost_function']=='electricity_consumption')\n",
    "    ]['value'].mean()\n",
    "    kpis = pd.DataFrame([{\n",
    "    'cost_function': COST_FUNCTION_LABELS['ramping'],\n",
    "    'value': CostFunction.ramping(net_electricity_consumption)[-1]/\\\n",
    "        CostFunction.ramping(net_electricity_consumption_without_storage)[-1],\n",
    "    }, {\n",
    "    'cost_function': COST_FUNCTION_LABELS['1 - load_factor'],\n",
    "    'value': CostFunction.load_factor(net_electricity_consumption)[-1]/\\\n",
    "        CostFunction.load_factor(net_electricity_consumption_without_storage)[-1],\n",
    "    },{\n",
    "    # 'cost_function': COST_FUNCTION_LABELS['electricity_consumption'],\n",
    "    # 'value': electricity_consumption_kpi,\n",
    "    # }, {\n",
    "    'cost_function': COST_FUNCTION_LABELS['average_daily_peak'],\n",
    "    'value': CostFunction.average_daily_peak(net_electricity_consumption)[-1]/\\\n",
    "        CostFunction.average_daily_peak(net_electricity_consumption_without_storage)[-1],\n",
    "    }, {\n",
    "    'cost_function': COST_FUNCTION_LABELS['peak_demand'],\n",
    "    'value': CostFunction.peak_demand(net_electricity_consumption)[-1]/\\\n",
    "        CostFunction.peak_demand(net_electricity_consumption_without_storage)[-1],\n",
    "    }])\n",
    "    kpis['neighborhood'] = NEIGHBORHOOD_NAMES[n]\n",
    "    kpi_data_list.append(kpis)\n",
    "\n",
    "plot_data = pd.concat(kpi_data_list, ignore_index=True, sort=False)\n",
    "display(1 - plot_data.groupby('neighborhood')['value'].mean())\n",
    "plot_data = plot_data.sort_values('value')\n",
    "\n",
    "\n",
    "# plot\n",
    "row_count = 1\n",
    "column_count = 1\n",
    "fig, ax = plt.subplots(row_count, column_count, figsize=(column_count*2.5, row_count*3.5))\n",
    "hue_order = sorted(plot_data['neighborhood'].unique().tolist())\n",
    "sns.barplot(x='value', y='cost_function', data=plot_data, hue_order=hue_order, hue='neighborhood', ax=ax)\n",
    "ax.axvline(1.0, color='black', linestyle='--', label='Without storage (baseline)')\n",
    "ax.set_xlabel('Score')\n",
    "ax.set_ylabel(None)\n",
    "\n",
    "for s in ['right','top']:\n",
    "    ax.spines[s].set_visible(False)\n",
    "\n",
    "for p in ax.patches:\n",
    "    ax.text(p.get_x() + p.get_width(), p.get_y() + p.get_height()/2.0, f'{p.get_width():0.2f}', ha='left', va='center')\n",
    "\n",
    "ax.set_xlabel(None)\n",
    "ax.legend(\n",
    "    bbox_to_anchor=(1.15,1.0),\n",
    "    loc='upper left',\n",
    "    framealpha=0,\n",
    "    ncol=1\n",
    ")\n",
    "\n",
    "filename = f'neighborhood_kpi_summary.pdf'\n",
    "plt.savefig(os.path.join(SETTINGS['figures_directory'], filename), bbox_inches='tight', transparent=True)\n",
    "plt.show()\n"
   ]
  },
  {
   "attachments": {},
   "cell_type": "markdown",
   "metadata": {},
   "source": [
    "### District net electricity profile compared to without storage option"
   ]
  },
  {
   "cell_type": "code",
   "execution_count": 11,
   "metadata": {},
   "outputs": [
    {
     "data": {
      "image/png": "[encoded data removed]",
      "text/plain": [
       "<Figure size 600x175 with 2 Axes>"
      ]
     },
     "metadata": {},
     "output_type": "display_data"
    }
   ],
   "source": [
    "plot_data = ENVIRONMENT_DATA[ENVIRONMENT_DATA['mode']=='test'].groupby(['neighborhood', 'timestamp'])[['net_electricity_consumption', 'net_electricity_consumption_without_storage']].sum().reset_index()\n",
    "soc_plot_data = ENVIRONMENT_DATA[ENVIRONMENT_DATA['mode']=='test'].groupby(['neighborhood', 'timestamp'])[[\n",
    "    'dhw_storage_soc', 'electrical_storage_soc'\n",
    "]].agg(['min', 'max', 'mean', 'std']).reset_index()\n",
    "neighborhood_count = len(plot_data['neighborhood'].unique())\n",
    "row_count, column_count = neighborhood_count, 1\n",
    "fig, axs = plt.subplots(row_count, column_count, figsize=(column_count*6, row_count*1.75))\n",
    "\n",
    "for i, (ax, (n, n_data), (_, s_data)) in enumerate(zip(fig.axes, plot_data.groupby('neighborhood'), soc_plot_data.groupby('neighborhood'))):\n",
    "    ref_timestamp = n_data['timestamp'].max() - timedelta(days=6, hours=23)\n",
    "    n_data = n_data[n_data['timestamp'] >= ref_timestamp].copy()\n",
    "    s_data = s_data[s_data['timestamp'] >= ref_timestamp].copy()\n",
    "    x = n_data['timestamp']\n",
    "    y1 = n_data['net_electricity_consumption_without_storage']\n",
    "    y2 = n_data['net_electricity_consumption']\n",
    "    ax.plot(x, y1, color='black', linestyle='--', label='Consumption\\nwithout storage (baseline)')\n",
    "    ax.plot(x, y2, color='black', label='Consumption\\nwith storage')\n",
    "    ax.set_ylabel('kWh')\n",
    "    ax.xaxis.set_major_locator(mdates.HourLocator(0))\n",
    "    ax.xaxis.set_major_formatter(mdates.DateFormatter('%b %d'))\n",
    "    ax.set_title(NEIGHBORHOOD_NAMES[n])\n",
    "\n",
    "    for s in ['right','top']:\n",
    "        ax.spines[s].set_visible(False)\n",
    "\n",
    "    ax2 = ax.twinx()\n",
    "    y1 = s_data[('electrical_storage_soc', 'mean')] - s_data[('electrical_storage_soc', 'std')]\n",
    "    y2 = s_data[('electrical_storage_soc', 'mean')] + s_data[('electrical_storage_soc', 'std')]\n",
    "    y3 = s_data[('dhw_storage_soc', 'mean')] - s_data[('dhw_storage_soc', 'std')]\n",
    "    y4 = s_data[('dhw_storage_soc', 'mean')] + s_data[('dhw_storage_soc', 'std')]\n",
    "    ax2.fill_between(x, y1, y2, color='green', label='Battery SoC', alpha=0.2)\n",
    "    # ax2.fill_between(x, y3, y4, color='green', label='DHW SoC', alpha=0.2)\n",
    "    \n",
    "    for s in ['left','top']:\n",
    "        ax2.spines[s].set_visible(False)\n",
    "\n",
    "    ax2.set_ylabel('SoC')\n",
    "    ax2.set_ylim(0.0, 1.0)\n",
    "    ax2.xaxis.set_major_locator(mdates.HourLocator(0))\n",
    "    ax2.xaxis.set_major_formatter(mdates.DateFormatter('%b %d'))\n",
    "\n",
    "    if i == row_count - 1:\n",
    "        h1, l1 = ax.get_legend_handles_labels()\n",
    "        h2, l2 = ax2.get_legend_handles_labels()\n",
    "        handles = h1 + h2\n",
    "        labels = l1 + l2\n",
    "        ax.legend(\n",
    "            handles,\n",
    "            labels,\n",
    "            bbox_to_anchor=(0.5,-0.95),\n",
    "            loc='lower center',\n",
    "            framealpha=0,\n",
    "            ncol=3\n",
    "        )\n",
    "    else:\n",
    "        pass\n",
    "\n",
    "\n",
    "\n",
    "plt.tight_layout()\n",
    "fig.align_ylabels()\n",
    "filename = f'neighborhood_electricity_consumption_profile_snapshot.pdf'\n",
    "plt.savefig(os.path.join(SETTINGS['figures_directory'], filename), bbox_inches='tight', transparent=True)\n",
    "plt.show()"
   ]
  },
  {
   "cell_type": "code",
   "execution_count": null,
   "metadata": {},
   "outputs": [],
   "source": []
  }
 ],
 "metadata": {
  "kernelspec": {
   "display_name": "Python 3 (ipykernel)",
   "language": "python",
   "name": "python3"
  },
  "language_info": {
   "codemirror_mode": {
    "name": "ipython",
    "version": 3
   },
   "file_extension": ".py",
   "mimetype": "text/x-python",
   "name": "python",
   "nbconvert_exporter": "python",
   "pygments_lexer": "ipython3",
   "version": "3.8.18"
  }
 },
 "nbformat": 4,
 "nbformat_minor": 4
}
